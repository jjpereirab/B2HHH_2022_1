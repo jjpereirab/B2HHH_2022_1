{
 "cells": [
  {
   "cell_type": "markdown",
   "metadata": {},
   "source": [
    "# Analysis of Nobel prize winners"
   ]
  },
  {
   "cell_type": "markdown",
   "metadata": {},
   "source": [
    "Welcome to the programming example page. This page shows an example analysis of Nobel prize winners. The coding commands and techniques that are demonstrated in this analysis are similar to those that are needed for your particle physics analysis.\n",
    "\n",
    "\n",
    "**IMPORTANT:** For every code box with code already in it, like the one below you must click in and press shift+enter to run the code. This is how you also run your own code. \n",
    "\n",
    "If the `In [x]:` to the left of a codebox changes to `In [*]:` that means the code in that box is currently running\n",
    "\n",
    "If you ever want more space to display output of code you can press the `+` button in the toolbar to the right of the save button to create another input box.\n",
    "\n",
    "For the sliders in the example histograms to work you will have to run all the codeboxes in this notebook. You can either do this as you read and try changing the code to see what happens, or select cell in the toolbar at the top and select run all."
   ]
  },
  {
   "cell_type": "markdown",
   "metadata": {},
   "source": [
    "First we load in the libraries we require and read in the file that contains the data."
   ]
  },
  {
   "cell_type": "code",
   "execution_count": 2,
   "metadata": {
    "run_control": {
     "frozen": false,
     "read_only": false
    }
   },
   "outputs": [
    {
     "name": "stdout",
     "output_type": "stream",
     "text": [
      "Populating the interactive namespace from numpy and matplotlib\n"
     ]
    }
   ],
   "source": [
    "from __future__ import print_function\n",
    "from __future__ import division\n",
    "\n",
    "%pylab inline\n",
    "filename = 'Data/setup_example.py'\n",
    "#execfile('Data/setup_example.py')\n",
    "exec(open(filename).read())"
   ]
  },
  {
   "cell_type": "markdown",
   "metadata": {},
   "source": [
    "Lets now view the first few lines of the data table. The rows of the data table are each of the Nobel prizes awarded and the columns are the information about who won the prize.   \n",
    "\n",
    "We have put the data into a pandas DataFrame we can now use all the functions associated with DataFrames. A useful function is `.head()`, this prints out the first few lines of the data table."
   ]
  },
  {
   "cell_type": "code",
   "execution_count": 3,
   "metadata": {
    "run_control": {
     "frozen": false,
     "read_only": false
    }
   },
   "outputs": [
    {
     "data": {
      "text/html": [
       "<div>\n",
       "<style scoped>\n",
       "    .dataframe tbody tr th:only-of-type {\n",
       "        vertical-align: middle;\n",
       "    }\n",
       "\n",
       "    .dataframe tbody tr th {\n",
       "        vertical-align: top;\n",
       "    }\n",
       "\n",
       "    .dataframe thead th {\n",
       "        text-align: right;\n",
       "    }\n",
       "</style>\n",
       "<table border=\"1\" class=\"dataframe\">\n",
       "  <thead>\n",
       "    <tr style=\"text-align: right;\">\n",
       "      <th></th>\n",
       "      <th>Year</th>\n",
       "      <th>Category</th>\n",
       "      <th>Name</th>\n",
       "      <th>Birthdate</th>\n",
       "      <th>Birth Place</th>\n",
       "      <th>County</th>\n",
       "      <th>Residence</th>\n",
       "      <th>Role/Affiliate</th>\n",
       "      <th>Field/Language</th>\n",
       "      <th>Prize Name</th>\n",
       "      <th>Motivation</th>\n",
       "      <th>BirthYear</th>\n",
       "    </tr>\n",
       "  </thead>\n",
       "  <tbody>\n",
       "    <tr>\n",
       "      <th>0</th>\n",
       "      <td>1901</td>\n",
       "      <td>chemistry</td>\n",
       "      <td>Jacobus Henricus van 't Hoff</td>\n",
       "      <td>30 August 1852</td>\n",
       "      <td>Rotterdam</td>\n",
       "      <td>the Netherlands</td>\n",
       "      <td>No Data</td>\n",
       "      <td>Berlin University, Berlin, Germany</td>\n",
       "      <td>Physical chemistry, chemical kinetics</td>\n",
       "      <td>The Nobel Prize in Chemistry</td>\n",
       "      <td>The Nobel Prize in Chemistry 1901 was awarded ...</td>\n",
       "      <td>1852</td>\n",
       "    </tr>\n",
       "    <tr>\n",
       "      <th>1</th>\n",
       "      <td>1901</td>\n",
       "      <td>literature</td>\n",
       "      <td>Sully Prudhomme</td>\n",
       "      <td>16 March 1839</td>\n",
       "      <td>Paris</td>\n",
       "      <td>France</td>\n",
       "      <td>France</td>\n",
       "      <td>No Data</td>\n",
       "      <td>French</td>\n",
       "      <td>The Nobel Prize in Literature</td>\n",
       "      <td>The Nobel Prize in Literature 1901 was awarded...</td>\n",
       "      <td>1839</td>\n",
       "    </tr>\n",
       "    <tr>\n",
       "      <th>2</th>\n",
       "      <td>1901</td>\n",
       "      <td>medicine</td>\n",
       "      <td>Emil Adolf von Behring</td>\n",
       "      <td>15 March 1854</td>\n",
       "      <td>Hansdorf (now Jankowa ?aga?ska)</td>\n",
       "      <td>Prussia (now Poland)</td>\n",
       "      <td>No Data</td>\n",
       "      <td>Marburg University, Marburg, Germany</td>\n",
       "      <td>No Data</td>\n",
       "      <td>The Nobel Prize in Physiology or Medicine</td>\n",
       "      <td>The Nobel Prize in Physiology or Medicine 1901...</td>\n",
       "      <td>1854</td>\n",
       "    </tr>\n",
       "    <tr>\n",
       "      <th>3</th>\n",
       "      <td>1901</td>\n",
       "      <td>peace</td>\n",
       "      <td>Frédéric Passy</td>\n",
       "      <td>20 May 1822</td>\n",
       "      <td>Paris</td>\n",
       "      <td>France</td>\n",
       "      <td>France</td>\n",
       "      <td>Founder and President of first French peace s...</td>\n",
       "      <td>Humanitarian work, peace movement</td>\n",
       "      <td>The Nobel Peace Prize</td>\n",
       "      <td>The Nobel Peace Prize 1901 was awarded jointly...</td>\n",
       "      <td>1822</td>\n",
       "    </tr>\n",
       "    <tr>\n",
       "      <th>4</th>\n",
       "      <td>1901</td>\n",
       "      <td>peace</td>\n",
       "      <td>Jean Henry Dunant</td>\n",
       "      <td>8 May 1828</td>\n",
       "      <td>Geneva</td>\n",
       "      <td>Switzerland</td>\n",
       "      <td>Switzerland</td>\n",
       "      <td>Originator Geneva Convention (Convention de G...</td>\n",
       "      <td>Humanitarian work, peace movement</td>\n",
       "      <td>The Nobel Peace Prize</td>\n",
       "      <td>The Nobel Peace Prize 1901 was awarded jointly...</td>\n",
       "      <td>1828</td>\n",
       "    </tr>\n",
       "  </tbody>\n",
       "</table>\n",
       "</div>"
      ],
      "text/plain": [
       "   Year    Category                          Name       Birthdate  \\\n",
       "0  1901   chemistry  Jacobus Henricus van 't Hoff  30 August 1852   \n",
       "1  1901  literature               Sully Prudhomme   16 March 1839   \n",
       "2  1901    medicine        Emil Adolf von Behring   15 March 1854   \n",
       "3  1901       peace                Frédéric Passy     20 May 1822   \n",
       "4  1901       peace             Jean Henry Dunant      8 May 1828   \n",
       "\n",
       "                       Birth Place                County    Residence  \\\n",
       "0                        Rotterdam       the Netherlands      No Data   \n",
       "1                            Paris                France       France   \n",
       "2  Hansdorf (now Jankowa ?aga?ska)  Prussia (now Poland)      No Data   \n",
       "3                            Paris                France       France   \n",
       "4                           Geneva           Switzerland  Switzerland   \n",
       "\n",
       "                                      Role/Affiliate  \\\n",
       "0                 Berlin University, Berlin, Germany   \n",
       "1                                            No Data   \n",
       "2               Marburg University, Marburg, Germany   \n",
       "3   Founder and President of first French peace s...   \n",
       "4   Originator Geneva Convention (Convention de G...   \n",
       "\n",
       "                           Field/Language  \\\n",
       "0   Physical chemistry, chemical kinetics   \n",
       "1                                  French   \n",
       "2                                 No Data   \n",
       "3       Humanitarian work, peace movement   \n",
       "4       Humanitarian work, peace movement   \n",
       "\n",
       "                                  Prize Name  \\\n",
       "0               The Nobel Prize in Chemistry   \n",
       "1              The Nobel Prize in Literature   \n",
       "2  The Nobel Prize in Physiology or Medicine   \n",
       "3                      The Nobel Peace Prize   \n",
       "4                      The Nobel Peace Prize   \n",
       "\n",
       "                                          Motivation  BirthYear  \n",
       "0  The Nobel Prize in Chemistry 1901 was awarded ...       1852  \n",
       "1  The Nobel Prize in Literature 1901 was awarded...       1839  \n",
       "2  The Nobel Prize in Physiology or Medicine 1901...       1854  \n",
       "3  The Nobel Peace Prize 1901 was awarded jointly...       1822  \n",
       "4  The Nobel Peace Prize 1901 was awarded jointly...       1828  "
      ]
     },
     "execution_count": 3,
     "metadata": {},
     "output_type": "execute_result"
    }
   ],
   "source": [
    "data.head(5) # Displaying some of the data so you can see what form it takes in the DataFrame"
   ]
  },
  {
   "cell_type": "markdown",
   "metadata": {},
   "source": [
    "# Plotting a histogram"
   ]
  },
  {
   "cell_type": "markdown",
   "metadata": {},
   "source": [
    "Lets learn how to plot histograms. We will plot the number of prizes awarded per year. Nobel prizes can be awarded for up to three people per category. As each winner is recorded as an individual entry the histogram will tell us if there has been a trend of increasing or decreasing multiple prize winners in one year.\n",
    "\n",
    "However before we plot the histogram we should find information out about the data so that we can check the range of the data we want to plot."
   ]
  },
  {
   "cell_type": "code",
   "execution_count": 4,
   "metadata": {
    "run_control": {
     "frozen": false,
     "read_only": false
    }
   },
   "outputs": [
    {
     "name": "stdout",
     "output_type": "stream",
     "text": [
      "1901\n"
     ]
    }
   ],
   "source": [
    "# print the earliest year in the data\n",
    "print(data.Year.min())"
   ]
  },
  {
   "cell_type": "code",
   "execution_count": 5,
   "metadata": {
    "run_control": {
     "frozen": false,
     "read_only": false
    }
   },
   "outputs": [
    {
     "name": "stdout",
     "output_type": "stream",
     "text": [
      "2010\n"
     ]
    }
   ],
   "source": [
    "# print the latest year in the data\n",
    "print(data.Year.max())"
   ]
  },
  {
   "cell_type": "markdown",
   "metadata": {},
   "source": [
    "The data set also contains entries for economics. Economics was not one of the original Nobel prizes and has only been given out since 1969. If we want to do a proper comparison we will need to filter this data out. We can do this with a pandas query.\n",
    "\n",
    "We can then check there are no economics prizes left by finding the `len`gth of the data after applying a query to only select economics prizes. This will be used in the main analysis to count the number of $B^+$ and $B^-$ mesons."
   ]
  },
  {
   "cell_type": "code",
   "execution_count": 6,
   "metadata": {},
   "outputs": [
    {
     "name": "stdout",
     "output_type": "stream",
     "text": [
      "Number of economics prizes in \"data_without_economics\":\n",
      "0\n"
     ]
    }
   ],
   "source": [
    "# filter out the Economics prizes from the data\n",
    "data_without_economics = data.query(\"Category != 'economics'\")\n",
    "print('Number of economics prizes in \"data_without_economics\":')\n",
    "print(len(data_without_economics.query(\"Category == 'economics'\")))"
   ]
  },
  {
   "cell_type": "markdown",
   "metadata": {},
   "source": [
    "We can now plot the histogram over a sensible range using the `hist` function from `matplotlib`. You will use this throughout the main analysis."
   ]
  },
  {
   "cell_type": "code",
   "execution_count": 7,
   "metadata": {
    "run_control": {
     "frozen": false,
     "read_only": false
    }
   },
   "outputs": [
    {
     "data": {
      "text/plain": [
       "Text(0, 0.5, 'Number of Winners')"
      ]
     },
     "execution_count": 7,
     "metadata": {},
     "output_type": "execute_result"
    },
    {
     "data": {
      "image/png": "[encoded data removed]",
      "text/plain": [
       "<Figure size 432x288 with 1 Axes>"
      ]
     },
     "metadata": {
      "needs_background": "light"
     },
     "output_type": "display_data"
    }
   ],
   "source": [
    "# plot the histogram of number of winners against year\n",
    "H_WinnersPerYear = data_without_economics.Year.hist(bins=11, range=[1900, 2010]) \n",
    "xlabel('Year')\n",
    "ylabel('Number of Winners')"
   ]
  },
  {
   "cell_type": "markdown",
   "metadata": {},
   "source": [
    "From the histogram we can see that there has been a recent trend of more multiple prize winners in the same year. However there is a drop in the range 1940 - 1950, this was due to prizes being awarded intermittently during World War II. To isolate this gap we can change the bin size (by changing the number of bins variable) to contain this range. Try changing the slider below (you will have to click in code box and press shift+enter to activate it) and see how the number of bins affects the look of the histogram."
   ]
  },
  {
   "cell_type": "code",
   "execution_count": 8,
   "metadata": {
    "run_control": {
     "frozen": false,
     "read_only": false
    },
    "scrolled": true
   },
   "outputs": [
    {
     "data": {
      "application/vnd.jupyter.widget-view+json": {
       "model_id": "7f52b8a54e6d4ea1a3368090c95b7cd1",
       "version_major": 2,
       "version_minor": 0
      },
      "text/plain": [
       "interactive(children=(Dropdown(description='bins', options=(2, 50, 1), value=2), Output()), _dom_classes=('wid…"
      ]
     },
     "metadata": {},
     "output_type": "display_data"
    },
    {
     "data": {
      "text/plain": [
       "<function __main__.plot_hist(bins)>"
      ]
     },
     "execution_count": 8,
     "metadata": {},
     "output_type": "execute_result"
    }
   ],
   "source": [
    "def plot_hist(bins): \n",
    "    changingBins = data_without_economics.Year.hist(bins=bins, range=[1900,2010])\n",
    "    xlabel('Year')\n",
    "    ylabel('Number of People Given Prizes')\n",
    "    BinSize = round(60/bins, 2)\n",
    "    print(BinSize)\n",
    "\n",
    "interact(plot_hist, bins=[2, 50, 1])"
   ]
  },
  {
   "cell_type": "markdown",
   "metadata": {},
   "source": [
    "As you can see by varying the slider - changing the bin size really does change how the data looks! There is discussion on what is the appropiate bin size to use in the main notebook."
   ]
  },
  {
   "cell_type": "markdown",
   "metadata": {},
   "source": [
    "## Preselections"
   ]
  },
  {
   "cell_type": "markdown",
   "metadata": {},
   "source": [
    "We now want to select our data. This is the same process as with filtering out economics prizes before but we'll go into more detail. This time lets filter out everything except Physics. We could do so by building a new dataset from the old one with loops and if statements, but the inbuilt pandas function `.query()` provides a quicker way. By passing a conditional statement, formatted into a string, we can create a new dataframe which is filled with only data that made the conditional statement true. A few examples are given below but only filtering out all but physics is used."
   ]
  },
  {
   "cell_type": "code",
   "execution_count": 9,
   "metadata": {
    "run_control": {
     "frozen": false,
     "read_only": false
    }
   },
   "outputs": [],
   "source": [
    "modernPhysics = \"(Category == 'physics' && Year > 2005)\" # Integer values don't go inside quotes\n",
    "physicsOnly = \"(Category == 'physics')\"\n",
    "# apply the physicsOnly query\n",
    "physicsOnlyDataFrame = data.query(physicsOnly)"
   ]
  },
  {
   "cell_type": "markdown",
   "metadata": {},
   "source": [
    "Lets check the new DataFrames to see if this has worked!"
   ]
  },
  {
   "cell_type": "code",
   "execution_count": 10,
   "metadata": {
    "run_control": {
     "frozen": false,
     "read_only": false
    }
   },
   "outputs": [
    {
     "data": {
      "text/html": [
       "<div>\n",
       "<style scoped>\n",
       "    .dataframe tbody tr th:only-of-type {\n",
       "        vertical-align: middle;\n",
       "    }\n",
       "\n",
       "    .dataframe tbody tr th {\n",
       "        vertical-align: top;\n",
       "    }\n",
       "\n",
       "    .dataframe thead th {\n",
       "        text-align: right;\n",
       "    }\n",
       "</style>\n",
       "<table border=\"1\" class=\"dataframe\">\n",
       "  <thead>\n",
       "    <tr style=\"text-align: right;\">\n",
       "      <th></th>\n",
       "      <th>Year</th>\n",
       "      <th>Category</th>\n",
       "      <th>Name</th>\n",
       "      <th>Birthdate</th>\n",
       "      <th>Birth Place</th>\n",
       "      <th>County</th>\n",
       "      <th>Residence</th>\n",
       "      <th>Role/Affiliate</th>\n",
       "      <th>Field/Language</th>\n",
       "      <th>Prize Name</th>\n",
       "      <th>Motivation</th>\n",
       "      <th>BirthYear</th>\n",
       "    </tr>\n",
       "  </thead>\n",
       "  <tbody>\n",
       "    <tr>\n",
       "      <th>5</th>\n",
       "      <td>1901</td>\n",
       "      <td>physics</td>\n",
       "      <td>Wilhelm Conrad Röntgen</td>\n",
       "      <td>27 March 1845</td>\n",
       "      <td>Lennep (now Remscheid)</td>\n",
       "      <td>Prussia (now Germany)</td>\n",
       "      <td>No Data</td>\n",
       "      <td>Munich University, Munich, Germany</td>\n",
       "      <td>X-rays, atomic physics</td>\n",
       "      <td>The Nobel Prize in Physics</td>\n",
       "      <td>The Nobel Prize in Physics 1901 was awarded to...</td>\n",
       "      <td>1845</td>\n",
       "    </tr>\n",
       "    <tr>\n",
       "      <th>11</th>\n",
       "      <td>1902</td>\n",
       "      <td>physics</td>\n",
       "      <td>Hendrik Antoon Lorentz</td>\n",
       "      <td>18 July 1853</td>\n",
       "      <td>Arnhem</td>\n",
       "      <td>the Netherlands</td>\n",
       "      <td>No Data</td>\n",
       "      <td>Leiden University, Leiden, the Netherlands</td>\n",
       "      <td>Atomic physics, quantum physics</td>\n",
       "      <td>The Nobel Prize in Physics</td>\n",
       "      <td>The Nobel Prize in Physics 1902 was awarded jo...</td>\n",
       "      <td>1853</td>\n",
       "    </tr>\n",
       "    <tr>\n",
       "      <th>12</th>\n",
       "      <td>1902</td>\n",
       "      <td>physics</td>\n",
       "      <td>Pieter Zeeman</td>\n",
       "      <td>25 May 1865</td>\n",
       "      <td>Zonnemaire</td>\n",
       "      <td>the Netherlands</td>\n",
       "      <td>No Data</td>\n",
       "      <td>Amsterdam University, Amsterdam, the Netherlands</td>\n",
       "      <td>Atomic physics, quantum physics</td>\n",
       "      <td>The Nobel Prize in Physics</td>\n",
       "      <td>The Nobel Prize in Physics 1902 was awarded jo...</td>\n",
       "      <td>1865</td>\n",
       "    </tr>\n",
       "    <tr>\n",
       "      <th>17</th>\n",
       "      <td>1903</td>\n",
       "      <td>physics</td>\n",
       "      <td>Antoine Henri Becquerel</td>\n",
       "      <td>15 December 1852</td>\n",
       "      <td>Paris</td>\n",
       "      <td>France</td>\n",
       "      <td>No Data</td>\n",
       "      <td>école Polytechnique, Paris, France</td>\n",
       "      <td>Nuclear physics</td>\n",
       "      <td>The Nobel Prize in Physics</td>\n",
       "      <td>The Nobel Prize in Physics 1903 was divided, o...</td>\n",
       "      <td>1852</td>\n",
       "    </tr>\n",
       "    <tr>\n",
       "      <th>18</th>\n",
       "      <td>1903</td>\n",
       "      <td>physics</td>\n",
       "      <td>Marie Curie, née Sklodowska</td>\n",
       "      <td>7 November 1867</td>\n",
       "      <td>Warsaw</td>\n",
       "      <td>Russian Empire (now Poland)</td>\n",
       "      <td>No Data</td>\n",
       "      <td>NaN</td>\n",
       "      <td>Nuclear physics</td>\n",
       "      <td>The Nobel Prize in Physics</td>\n",
       "      <td>The Nobel Prize in Physics 1903 was divided, o...</td>\n",
       "      <td>1867</td>\n",
       "    </tr>\n",
       "  </tbody>\n",
       "</table>\n",
       "</div>"
      ],
      "text/plain": [
       "    Year Category                         Name         Birthdate  \\\n",
       "5   1901  physics       Wilhelm Conrad Röntgen     27 March 1845   \n",
       "11  1902  physics       Hendrik Antoon Lorentz      18 July 1853   \n",
       "12  1902  physics                Pieter Zeeman       25 May 1865   \n",
       "17  1903  physics      Antoine Henri Becquerel  15 December 1852   \n",
       "18  1903  physics  Marie Curie, née Sklodowska   7 November 1867   \n",
       "\n",
       "               Birth Place                       County Residence  \\\n",
       "5   Lennep (now Remscheid)        Prussia (now Germany)   No Data   \n",
       "11                  Arnhem              the Netherlands   No Data   \n",
       "12              Zonnemaire              the Netherlands   No Data   \n",
       "17                   Paris                       France   No Data   \n",
       "18                  Warsaw  Russian Empire (now Poland)   No Data   \n",
       "\n",
       "                                       Role/Affiliate  \\\n",
       "5                  Munich University, Munich, Germany   \n",
       "11         Leiden University, Leiden, the Netherlands   \n",
       "12   Amsterdam University, Amsterdam, the Netherlands   \n",
       "17                 école Polytechnique, Paris, France   \n",
       "18                                                NaN   \n",
       "\n",
       "                      Field/Language                  Prize Name  \\\n",
       "5             X-rays, atomic physics  The Nobel Prize in Physics   \n",
       "11   Atomic physics, quantum physics  The Nobel Prize in Physics   \n",
       "12   Atomic physics, quantum physics  The Nobel Prize in Physics   \n",
       "17                   Nuclear physics  The Nobel Prize in Physics   \n",
       "18                   Nuclear physics  The Nobel Prize in Physics   \n",
       "\n",
       "                                           Motivation  BirthYear  \n",
       "5   The Nobel Prize in Physics 1901 was awarded to...       1845  \n",
       "11  The Nobel Prize in Physics 1902 was awarded jo...       1853  \n",
       "12  The Nobel Prize in Physics 1902 was awarded jo...       1865  \n",
       "17  The Nobel Prize in Physics 1903 was divided, o...       1852  \n",
       "18  The Nobel Prize in Physics 1903 was divided, o...       1867  "
      ]
     },
     "execution_count": 10,
     "metadata": {},
     "output_type": "execute_result"
    }
   ],
   "source": [
    "physicsOnlyDataFrame.head(5)"
   ]
  },
  {
   "cell_type": "markdown",
   "metadata": {
    "collapsed": true
   },
   "source": [
    "Brilliant! You will find this technique useful to select kaons in the main analysis. Lets now plot the number of winners per year just for physics."
   ]
  },
  {
   "cell_type": "code",
   "execution_count": 11,
   "metadata": {
    "run_control": {
     "frozen": false,
     "read_only": false
    }
   },
   "outputs": [
    {
     "data": {
      "text/plain": [
       "Text(0, 0.5, 'Number of Winners in Physics')"
      ]
     },
     "execution_count": 11,
     "metadata": {},
     "output_type": "execute_result"
    },
    {
     "data": {
      "image/png": "[encoded data removed]",
      "text/plain": [
       "<Figure size 432x288 with 1 Axes>"
      ]
     },
     "metadata": {
      "needs_background": "light"
     },
     "output_type": "display_data"
    }
   ],
   "source": [
    "H_PhysicsWinnersPerYear = physicsOnlyDataFrame.Year.hist(bins=15, range=[1920,2010])\n",
    "xlabel('Year') #Plot an x label\n",
    "ylabel('Number of Winners in Physics') #Plot a y label"
   ]
  },
  {
   "cell_type": "markdown",
   "metadata": {},
   "source": [
    "We have now successfully plotted the histogram of just the physics prizes after applying our pre-selection."
   ]
  },
  {
   "cell_type": "markdown",
   "metadata": {},
   "source": [
    "# Calculations, Scatter Plots and 2D Histogram\n",
    "### Adding New Data to a Data Frame"
   ]
  },
  {
   "cell_type": "markdown",
   "metadata": {},
   "source": [
    "You will find this section useful for when it comes to creating a Dalitz plot in the particle physics analysis.\n",
    "\n",
    "We want to see what ages people have been awarded Nobel prizes and measure the spread in the ages.\n",
    "\n",
    "Then we'll consider if over time people have been getting awarded Nobel prizes earlier or later in their life. \n",
    "\n",
    "First we'll need to calculate the age or the winners at the time the prize was awarded based on the `Year` and `Birthdate` columns. We create an `AgeAwarded` variable and add this to the data."
   ]
  },
  {
   "cell_type": "code",
   "execution_count": 12,
   "metadata": {},
   "outputs": [
    {
     "data": {
      "text/html": [
       "<div>\n",
       "<style scoped>\n",
       "    .dataframe tbody tr th:only-of-type {\n",
       "        vertical-align: middle;\n",
       "    }\n",
       "\n",
       "    .dataframe tbody tr th {\n",
       "        vertical-align: top;\n",
       "    }\n",
       "\n",
       "    .dataframe thead th {\n",
       "        text-align: right;\n",
       "    }\n",
       "</style>\n",
       "<table border=\"1\" class=\"dataframe\">\n",
       "  <thead>\n",
       "    <tr style=\"text-align: right;\">\n",
       "      <th></th>\n",
       "      <th>Year</th>\n",
       "      <th>Category</th>\n",
       "      <th>Name</th>\n",
       "      <th>Birthdate</th>\n",
       "      <th>Birth Place</th>\n",
       "      <th>County</th>\n",
       "      <th>Residence</th>\n",
       "      <th>Role/Affiliate</th>\n",
       "      <th>Field/Language</th>\n",
       "      <th>Prize Name</th>\n",
       "      <th>Motivation</th>\n",
       "      <th>BirthYear</th>\n",
       "      <th>AgeAwarded</th>\n",
       "    </tr>\n",
       "  </thead>\n",
       "  <tbody>\n",
       "    <tr>\n",
       "      <th>5</th>\n",
       "      <td>1901</td>\n",
       "      <td>physics</td>\n",
       "      <td>Wilhelm Conrad Röntgen</td>\n",
       "      <td>27 March 1845</td>\n",
       "      <td>Lennep (now Remscheid)</td>\n",
       "      <td>Prussia (now Germany)</td>\n",
       "      <td>No Data</td>\n",
       "      <td>Munich University, Munich, Germany</td>\n",
       "      <td>X-rays, atomic physics</td>\n",
       "      <td>The Nobel Prize in Physics</td>\n",
       "      <td>The Nobel Prize in Physics 1901 was awarded to...</td>\n",
       "      <td>1845</td>\n",
       "      <td>56</td>\n",
       "    </tr>\n",
       "    <tr>\n",
       "      <th>11</th>\n",
       "      <td>1902</td>\n",
       "      <td>physics</td>\n",
       "      <td>Hendrik Antoon Lorentz</td>\n",
       "      <td>18 July 1853</td>\n",
       "      <td>Arnhem</td>\n",
       "      <td>the Netherlands</td>\n",
       "      <td>No Data</td>\n",
       "      <td>Leiden University, Leiden, the Netherlands</td>\n",
       "      <td>Atomic physics, quantum physics</td>\n",
       "      <td>The Nobel Prize in Physics</td>\n",
       "      <td>The Nobel Prize in Physics 1902 was awarded jo...</td>\n",
       "      <td>1853</td>\n",
       "      <td>49</td>\n",
       "    </tr>\n",
       "    <tr>\n",
       "      <th>12</th>\n",
       "      <td>1902</td>\n",
       "      <td>physics</td>\n",
       "      <td>Pieter Zeeman</td>\n",
       "      <td>25 May 1865</td>\n",
       "      <td>Zonnemaire</td>\n",
       "      <td>the Netherlands</td>\n",
       "      <td>No Data</td>\n",
       "      <td>Amsterdam University, Amsterdam, the Netherlands</td>\n",
       "      <td>Atomic physics, quantum physics</td>\n",
       "      <td>The Nobel Prize in Physics</td>\n",
       "      <td>The Nobel Prize in Physics 1902 was awarded jo...</td>\n",
       "      <td>1865</td>\n",
       "      <td>37</td>\n",
       "    </tr>\n",
       "    <tr>\n",
       "      <th>17</th>\n",
       "      <td>1903</td>\n",
       "      <td>physics</td>\n",
       "      <td>Antoine Henri Becquerel</td>\n",
       "      <td>15 December 1852</td>\n",
       "      <td>Paris</td>\n",
       "      <td>France</td>\n",
       "      <td>No Data</td>\n",
       "      <td>école Polytechnique, Paris, France</td>\n",
       "      <td>Nuclear physics</td>\n",
       "      <td>The Nobel Prize in Physics</td>\n",
       "      <td>The Nobel Prize in Physics 1903 was divided, o...</td>\n",
       "      <td>1852</td>\n",
       "      <td>51</td>\n",
       "    </tr>\n",
       "    <tr>\n",
       "      <th>18</th>\n",
       "      <td>1903</td>\n",
       "      <td>physics</td>\n",
       "      <td>Marie Curie, née Sklodowska</td>\n",
       "      <td>7 November 1867</td>\n",
       "      <td>Warsaw</td>\n",
       "      <td>Russian Empire (now Poland)</td>\n",
       "      <td>No Data</td>\n",
       "      <td>NaN</td>\n",
       "      <td>Nuclear physics</td>\n",
       "      <td>The Nobel Prize in Physics</td>\n",
       "      <td>The Nobel Prize in Physics 1903 was divided, o...</td>\n",
       "      <td>1867</td>\n",
       "      <td>36</td>\n",
       "    </tr>\n",
       "  </tbody>\n",
       "</table>\n",
       "</div>"
      ],
      "text/plain": [
       "    Year Category                         Name         Birthdate  \\\n",
       "5   1901  physics       Wilhelm Conrad Röntgen     27 March 1845   \n",
       "11  1902  physics       Hendrik Antoon Lorentz      18 July 1853   \n",
       "12  1902  physics                Pieter Zeeman       25 May 1865   \n",
       "17  1903  physics      Antoine Henri Becquerel  15 December 1852   \n",
       "18  1903  physics  Marie Curie, née Sklodowska   7 November 1867   \n",
       "\n",
       "               Birth Place                       County Residence  \\\n",
       "5   Lennep (now Remscheid)        Prussia (now Germany)   No Data   \n",
       "11                  Arnhem              the Netherlands   No Data   \n",
       "12              Zonnemaire              the Netherlands   No Data   \n",
       "17                   Paris                       France   No Data   \n",
       "18                  Warsaw  Russian Empire (now Poland)   No Data   \n",
       "\n",
       "                                       Role/Affiliate  \\\n",
       "5                  Munich University, Munich, Germany   \n",
       "11         Leiden University, Leiden, the Netherlands   \n",
       "12   Amsterdam University, Amsterdam, the Netherlands   \n",
       "17                 école Polytechnique, Paris, France   \n",
       "18                                                NaN   \n",
       "\n",
       "                      Field/Language                  Prize Name  \\\n",
       "5             X-rays, atomic physics  The Nobel Prize in Physics   \n",
       "11   Atomic physics, quantum physics  The Nobel Prize in Physics   \n",
       "12   Atomic physics, quantum physics  The Nobel Prize in Physics   \n",
       "17                   Nuclear physics  The Nobel Prize in Physics   \n",
       "18                   Nuclear physics  The Nobel Prize in Physics   \n",
       "\n",
       "                                           Motivation  BirthYear  AgeAwarded  \n",
       "5   The Nobel Prize in Physics 1901 was awarded to...       1845          56  \n",
       "11  The Nobel Prize in Physics 1902 was awarded jo...       1853          49  \n",
       "12  The Nobel Prize in Physics 1902 was awarded jo...       1865          37  \n",
       "17  The Nobel Prize in Physics 1903 was divided, o...       1852          51  \n",
       "18  The Nobel Prize in Physics 1903 was divided, o...       1867          36  "
      ]
     },
     "execution_count": 12,
     "metadata": {},
     "output_type": "execute_result"
    }
   ],
   "source": [
    "# Create new variable in the dataframe\n",
    "physicsOnlyDataFrame['AgeAwarded'] = physicsOnlyDataFrame.Year - physicsOnlyDataFrame.BirthYear\n",
    "physicsOnlyDataFrame.head(5)"
   ]
  },
  {
   "cell_type": "markdown",
   "metadata": {},
   "source": [
    "Lets make a plot of the age of the winners at the time they were awarded the prize"
   ]
  },
  {
   "cell_type": "code",
   "execution_count": 13,
   "metadata": {
    "scrolled": true
   },
   "outputs": [
    {
     "data": {
      "image/png": "[encoded data removed]",
      "text/plain": [
       "<Figure size 432x288 with 1 Axes>"
      ]
     },
     "metadata": {
      "needs_background": "light"
     },
     "output_type": "display_data"
    }
   ],
   "source": [
    "# plot a histogram of the laureates ages\n",
    "H_AgeAwarded = physicsOnlyDataFrame.AgeAwarded.hist(bins=15)"
   ]
  },
  {
   "cell_type": "markdown",
   "metadata": {
    "collapsed": true
   },
   "source": [
    "### Making Calculations"
   ]
  },
  {
   "cell_type": "markdown",
   "metadata": {},
   "source": [
    "Lets calculate a measure of the spread in ages of the laureates. We will calculate the standard deviation of the distribution."
   ]
  },
  {
   "cell_type": "code",
   "execution_count": 14,
   "metadata": {},
   "outputs": [
    {
     "name": "stdout",
     "output_type": "stream",
     "text": [
      "13.314524371459262\n"
     ]
    }
   ],
   "source": [
    "# count number of entries\n",
    "NumEntries = len(physicsOnlyDataFrame)\n",
    "# calculate square of ages\n",
    "physicsOnlyDataFrame['AgeAwardedSquared'] = physicsOnlyDataFrame.AgeAwarded**2\n",
    "# calculate sum of square of ages, and sum of ages\n",
    "AgeSqSum = physicsOnlyDataFrame['AgeAwardedSquared'].sum()\n",
    "AgeSum = physicsOnlyDataFrame['AgeAwarded'].sum()\n",
    "# calculate std and print it\n",
    "std = sqrt((AgeSqSum-(AgeSum**2/NumEntries)) / NumEntries)\n",
    "print(std)"
   ]
  },
  {
   "cell_type": "markdown",
   "metadata": {},
   "source": [
    "There is actually a function that would calculate the rms for you, but we wanted to teach you how to manipulate data to make calculations!"
   ]
  },
  {
   "cell_type": "code",
   "execution_count": 15,
   "metadata": {},
   "outputs": [
    {
     "name": "stdout",
     "output_type": "stream",
     "text": [
      "13.350268125361112\n"
     ]
    }
   ],
   "source": [
    "# calculate standard deviation (rms) of distribution\n",
    "print(physicsOnlyDataFrame['AgeAwarded'].std())"
   ]
  },
  {
   "cell_type": "markdown",
   "metadata": {
    "collapsed": true
   },
   "source": [
    "### Scatter Plot"
   ]
  },
  {
   "cell_type": "markdown",
   "metadata": {},
   "source": [
    "Now lets plot a scatter plot of Age vs Date awarded"
   ]
  },
  {
   "cell_type": "code",
   "execution_count": 16,
   "metadata": {},
   "outputs": [
    {
     "data": {
      "text/plain": [
       "Text(0, 0.5, 'Age Awarded')"
      ]
     },
     "execution_count": 16,
     "metadata": {},
     "output_type": "execute_result"
    },
    {
     "data": {
      "image/png": "[encoded data removed]",
      "text/plain": [
       "<Figure size 432x288 with 1 Axes>"
      ]
     },
     "metadata": {
      "needs_background": "light"
     },
     "output_type": "display_data"
    }
   ],
   "source": [
    "scatter(physicsOnlyDataFrame['Year'], physicsOnlyDataFrame['AgeAwarded'])\n",
    "plt.xlim(1900, 2010) # change the x axis range\n",
    "plt.ylim(20, 100)  # change the y axis range\n",
    "xlabel('Year Awarded')\n",
    "ylabel('Age Awarded')"
   ]
  },
  {
   "cell_type": "markdown",
   "metadata": {
    "collapsed": true
   },
   "source": [
    "### 2D Histogram"
   ]
  },
  {
   "cell_type": "markdown",
   "metadata": {},
   "source": [
    "We can also plot a 2D histogram and bin the results. The number of entries in the data set is relatively low so we will need to use reasonably large bins to have acceptable statistics in each bin. We have given you the ability to change the number of bins so you can see how the plot changes. Note that the number of total bins is the value of the slider squared. This is because the value of bins given in the hist2d function is the number of bins on one axis."
   ]
  },
  {
   "cell_type": "code",
   "execution_count": 17,
   "metadata": {},
   "outputs": [
    {
     "data": {
      "text/plain": [
       "Text(0, 0.5, 'Age Awarded')"
      ]
     },
     "execution_count": 17,
     "metadata": {},
     "output_type": "execute_result"
    },
    {
     "data": {
      "image/png": "[encoded data removed]",
      "text/plain": [
       "<Figure size 432x288 with 2 Axes>"
      ]
     },
     "metadata": {
      "needs_background": "light"
     },
     "output_type": "display_data"
    }
   ],
   "source": [
    "hist2d(physicsOnlyDataFrame.Year, physicsOnlyDataFrame.AgeAwarded, bins=10)\n",
    "colorbar() # Add a colour legend\n",
    "xlabel('Year Awarded')\n",
    "ylabel('Age Awarded')"
   ]
  },
  {
   "cell_type": "markdown",
   "metadata": {},
   "source": [
    "Alternatively you can use `interact` to add a slider to vary the number of bins"
   ]
  },
  {
   "cell_type": "code",
   "execution_count": 20,
   "metadata": {},
   "outputs": [
    {
     "data": {
      "application/vnd.jupyter.widget-view+json": {
       "model_id": "1d8f03e3e0034f1fb2e1ea881e920bbf",
       "version_major": 2,
       "version_minor": 0
      },
      "text/plain": [
       "interactive(children=(Dropdown(description='bins', options=(1, 20, 10), value=1), Output()), _dom_classes=('wi…"
      ]
     },
     "metadata": {},
     "output_type": "display_data"
    },
    {
     "data": {
      "text/plain": [
       "<function __main__.plot_histogram(bins)>"
      ]
     },
     "execution_count": 20,
     "metadata": {},
     "output_type": "execute_result"
    }
   ],
   "source": [
    "def plot_histogram(bins):\n",
    "    hist2d(physicsOnlyDataFrame['Year'].values,physicsOnlyDataFrame['AgeAwarded'].values, bins=bins)\n",
    "    colorbar() #Set a colour legend\n",
    "    xlabel('Year Awarded')\n",
    "    ylabel('Age Awarded')\n",
    "    \n",
    "interact(plot_histogram, bins=[1, 20, 10])  # Creates the slider"
   ]
  },
  {
   "cell_type": "markdown",
   "metadata": {},
   "source": [
    "Playing with the slider will show you the effect of changing bthe in size in a 2D histogram. The darker bins in the top right corner show that there does appear to be a trend of Nobel prizes being won at an older age in more recent years."
   ]
  },
  {
   "cell_type": "markdown",
   "metadata": {},
   "source": [
    "### Manipulating 2D histograms\n",
    "\n",
    "**This section is advanced and only required for the final section of the main analysis.**"
   ]
  },
  {
   "cell_type": "markdown",
   "metadata": {},
   "source": [
    "As the main analysis requires the calculation of an asymmetry, we now provide a contrived example of how to do this using the nobel prize dataset, we recommed only reading this section after reaching the \"Searching for local matter anti-matter differences\" section of the main analysis."
   ]
  },
  {
   "cell_type": "markdown",
   "metadata": {},
   "source": [
    "First calculate the number of entries in each bin of the 2D histogram and store these values in `physics_counts` as a 2D array.\n",
    "\n",
    "`xedges` and `yedges` are 1D arrays containing the values of the bin edges along each axis."
   ]
  },
  {
   "cell_type": "code",
   "execution_count": 19,
   "metadata": {},
   "outputs": [
    {
     "data": {
      "text/plain": [
       "Text(0, 0.5, 'Age Awarded')"
      ]
     },
     "execution_count": 19,
     "metadata": {},
     "output_type": "execute_result"
    },
    {
     "data": {
      "image/png": "[encoded data removed]",
      "text/plain": [
       "<Figure size 432x288 with 2 Axes>"
      ]
     },
     "metadata": {
      "needs_background": "light"
     },
     "output_type": "display_data"
    }
   ],
   "source": [
    "physics_counts, xedges, yedges, Image = hist2d(\n",
    "    physicsOnlyDataFrame.Year, physicsOnlyDataFrame.AgeAwarded,\n",
    "    bins=10, range=[(1900, 2010), (20, 100)]\n",
    ")\n",
    "colorbar() # Add a colour legend\n",
    "xlabel('Year Awarded')\n",
    "ylabel('Age Awarded')"
   ]
  },
  {
   "cell_type": "markdown",
   "metadata": {},
   "source": [
    "Repeat the procedure used for physics to get the 2D histgram of age against year awarded for chemistry nobel prizes."
   ]
  },
  {
   "cell_type": "code",
   "execution_count": 19,
   "metadata": {},
   "outputs": [],
   "source": [
    "# Make the \"chemistryOnlyDataFrame\" dataset\n",
    "chemistryOnlyDataFrame = data.query(\"(Category == 'chemistry')\")\n",
    "chemistryOnlyDataFrame['AgeAwarded'] = chemistryOnlyDataFrame.Year - chemistryOnlyDataFrame.BirthYear"
   ]
  },
  {
   "cell_type": "code",
   "execution_count": 20,
   "metadata": {},
   "outputs": [
    {
     "data": {
      "text/plain": [
       "<matplotlib.text.Text at 0x7f02d15b1650>"
      ]
     },
     "execution_count": 20,
     "metadata": {},
     "output_type": "execute_result"
    },
    {
     "data": {
      "image/png": "[encoded data removed]",
      "text/plain": [
       "<matplotlib.figure.Figure at 0x7f02d15f6510>"
      ]
     },
     "metadata": {},
     "output_type": "display_data"
    }
   ],
   "source": [
    "# Plot the histogram\n",
    "chemistry_counts, xedges, yedges, Image = hist2d(\n",
    "    chemistryOnlyDataFrame.Year, chemistryOnlyDataFrame.AgeAwarded,\n",
    "    bins=10, range=[(1900, 2010), (20, 100)]\n",
    ")\n",
    "colorbar() # Add a colour legend\n",
    "xlabel('Year Awarded')\n",
    "ylabel('Age Awarded')"
   ]
  },
  {
   "cell_type": "markdown",
   "metadata": {},
   "source": [
    "Subtract the `chemistry_counts` from the `physics_counts` and normalise by their sum. This is known as an asymmetry."
   ]
  },
  {
   "cell_type": "code",
   "execution_count": 21,
   "metadata": {},
   "outputs": [],
   "source": [
    "counts = (physics_counts - chemistry_counts) / (physics_counts + chemistry_counts)"
   ]
  },
  {
   "cell_type": "markdown",
   "metadata": {},
   "source": [
    "Where there are no nobel prize winners for either subject `counts` will contain an error value (`nan`) as the number was divided by zero. Here we replace these error values with `0`."
   ]
  },
  {
   "cell_type": "code",
   "execution_count": 22,
   "metadata": {
    "collapsed": true
   },
   "outputs": [],
   "source": [
    "counts[np.isnan(counts)] = 0"
   ]
  },
  {
   "cell_type": "markdown",
   "metadata": {},
   "source": [
    "Finally plot the asymmetry using the `pcolor` function. As positive and negative values each have a different meaning we use the `seismic` colormap, see [here](http://matplotlib.org/examples/color/colormaps_reference.html) for a full list of all available colormaps."
   ]
  },
  {
   "cell_type": "code",
   "execution_count": 23,
   "metadata": {},
   "outputs": [
    {
     "data": {
      "text/plain": [
       "<matplotlib.colorbar.Colorbar instance at 0x7f02d3ccda28>"
      ]
     },
     "execution_count": 23,
     "metadata": {},
     "output_type": "execute_result"
    },
    {
     "data": {
      "image/png": "[encoded data removed]",
      "text/plain": [
       "<matplotlib.figure.Figure at 0x7f02d16580d0>"
      ]
     },
     "metadata": {},
     "output_type": "display_data"
    }
   ],
   "source": [
    "pcolor(xedges, yedges, counts, cmap='seismic')\n",
    "colorbar()"
   ]
  }
 ],
 "metadata": {
  "kernelspec": {
   "display_name": "Python 3",
   "language": "python",
   "name": "python3"
  },
  "language_info": {
   "codemirror_mode": {
    "name": "ipython",
    "version": 3
   },
   "file_extension": ".py",
   "mimetype": "text/x-python",
   "name": "python",
   "nbconvert_exporter": "python",
   "pygments_lexer": "ipython3",
   "version": "3.8.12"
  },
  "toc": {
   "toc_cell": false,
   "toc_number_sections": true,
   "toc_threshold": 6,
   "toc_window_display": false
  },
  "widgets": {
   "state": {
    "129bb20650fb49049f864c998dc56b25": {
     "views": []
    },
    "46d3181e42b543efb0bdd3a3f1c52b7a": {
     "views": []
    },
    "4704bc7c755b4c85bec7286a1e0985a0": {
     "views": []
    },
    "4bd3070195244030a36eb86438046b7e": {
     "views": [
      {
       "cell_index": 15
      }
     ]
    },
    "747317b98f5840edb4ea9f976bff9e06": {
     "views": []
    },
    "92adeeeb545a43d1a2480125b74baca9": {
     "views": [
      {
       "cell_index": 42
      }
     ]
    },
    "c13bc31601844785a5b5dcf8d810fc7b": {
     "views": []
    },
    "ca5a86aabd694b779fdbfe274d6af91b": {
     "views": []
    }
   },
   "version": "1.1.2"
  }
 },
 "nbformat": 4,
 "nbformat_minor": 1
}
