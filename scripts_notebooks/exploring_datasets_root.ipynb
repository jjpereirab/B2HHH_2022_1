{
 "cells": [
  {
   "cell_type": "code",
   "execution_count": 1,
   "id": "72fb15da",
   "metadata": {},
   "outputs": [],
   "source": [
    "#include <iostream>\n",
    "#include <string>\n",
    "#include <stdio.h>\n",
    "\n",
    "TFile *file = TFile::Open(\"PhaseSpaceSimulation.root\"); \n",
    "TTree *tree = (TTree*) file->Get(\"PhaseSpaceTree\");\n",
    "\n",
    "TFile *file2 = TFile::Open(\"B2HHH_MagnetUp.root\"); \n",
    "TTree *tree2 = (TTree*) file2->Get(\"DecayTree\");\n",
    "\n",
    "TFile *file3 = TFile::Open(\"B2HHH_MagnetDown.root\"); \n",
    "TTree *tree3 = (TTree*) file3->Get(\"DecayTree\");"
   ]
  },
  {
   "cell_type": "code",
   "execution_count": 2,
   "id": "7cf19586",
   "metadata": {
    "scrolled": true
   },
   "outputs": [
    {
     "name": "stdout",
     "output_type": "stream",
     "text": [
      "******************************************************************************\n",
      "*Tree    :DecayTree : Tree continaing data for B- --> h-h+h- decays          *\n",
      "*Entries :  3420295 : Total =       629522894 bytes  File  Size =  444718406 *\n",
      "*        :          : Tree compression factor =   1.42                       *\n",
      "******************************************************************************\n",
      "*Br    0 :B_FlightDistance : B_FlightDistance/D                              *\n",
      "*Entries :  3420295 : Total  Size=   27370973 bytes  File Size  =   24630500 *\n",
      "*Baskets :       72 : Basket Size=    1873408 bytes  Compression=   1.05     *\n",
      "*............................................................................*\n",
      "*Br    1 :B_VertexChi2 : B_VertexChi2/D                                      *\n",
      "*Entries :  3420295 : Total  Size=   27370661 bytes  File Size  =   24812127 *\n",
      "*Baskets :       72 : Basket Size=    1873408 bytes  Compression=   1.04     *\n",
      "*............................................................................*\n",
      "*Br    2 :H1_PX     : H1_PX/D                                                *\n",
      "*Entries :  3420295 : Total  Size=   27370014 bytes  File Size  =   23539994 *\n",
      "*Baskets :       71 : Basket Size=    1872896 bytes  Compression=   1.10     *\n",
      "*............................................................................*\n",
      "*Br    3 :H1_PY     : H1_PY/D                                                *\n",
      "*Entries :  3420295 : Total  Size=   27370014 bytes  File Size  =   23540929 *\n",
      "*Baskets :       71 : Basket Size=    1872896 bytes  Compression=   1.10     *\n",
      "*............................................................................*\n",
      "*Br    4 :H1_PZ     : H1_PZ/D                                                *\n",
      "*Entries :  3420295 : Total  Size=   27370014 bytes  File Size  =   23414290 *\n",
      "*Baskets :       71 : Basket Size=    1872896 bytes  Compression=   1.11     *\n",
      "*............................................................................*\n",
      "*Br    5 :H1_ProbK  : H1_ProbK/D                                             *\n",
      "*Entries :  3420295 : Total  Size=   27370349 bytes  File Size  =   13771090 *\n",
      "*Baskets :       72 : Basket Size=    1872896 bytes  Compression=   1.88     *\n",
      "*............................................................................*\n",
      "*Br    6 :H1_ProbPi : H1_ProbPi/D                                            *\n",
      "*Entries :  3420295 : Total  Size=   27370427 bytes  File Size  =   14100649 *\n",
      "*Baskets :       72 : Basket Size=    1873408 bytes  Compression=   1.84     *\n",
      "*............................................................................*\n",
      "*Br    7 :H1_Charge : H1_Charge/I                                            *\n",
      "*Entries :  3420295 : Total  Size=   13686194 bytes  File Size  =    1346631 *\n",
      "*Baskets :       43 : Basket Size=     936448 bytes  Compression=   9.63     *\n",
      "*............................................................................*\n",
      "*Br    8 :H1_IPChi2 : H1_IPChi2/D                                            *\n",
      "*Entries :  3420295 : Total  Size=   27370427 bytes  File Size  =   23421345 *\n",
      "*Baskets :       72 : Basket Size=    1873408 bytes  Compression=   1.11     *\n",
      "*............................................................................*\n",
      "*Br    9 :H1_isMuon : H1_isMuon/I                                            *\n",
      "*Entries :  3420295 : Total  Size=   13686194 bytes  File Size  =     932161 *\n",
      "*Baskets :       43 : Basket Size=     936448 bytes  Compression=  13.91     *\n",
      "*............................................................................*\n",
      "*Br   10 :H2_PX     : H2_PX/D                                                *\n",
      "*Entries :  3420295 : Total  Size=   27370014 bytes  File Size  =   24093289 *\n",
      "*Baskets :       71 : Basket Size=    1872896 bytes  Compression=   1.08     *\n",
      "*............................................................................*\n",
      "*Br   11 :H2_PY     : H2_PY/D                                                *\n",
      "*Entries :  3420295 : Total  Size=   27370014 bytes  File Size  =   24093979 *\n",
      "*Baskets :       71 : Basket Size=    1872896 bytes  Compression=   1.08     *\n",
      "*............................................................................*\n",
      "*Br   12 :H2_PZ     : H2_PZ/D                                                *\n",
      "*Entries :  3420295 : Total  Size=   27370014 bytes  File Size  =   23854633 *\n",
      "*Baskets :       71 : Basket Size=    1872896 bytes  Compression=   1.09     *\n",
      "*............................................................................*\n",
      "*Br   13 :H2_ProbK  : H2_ProbK/D                                             *\n",
      "*Entries :  3420295 : Total  Size=   27370349 bytes  File Size  =   14072949 *\n",
      "*Baskets :       72 : Basket Size=    1872896 bytes  Compression=   1.84     *\n",
      "*............................................................................*\n",
      "*Br   14 :H2_ProbPi : H2_ProbPi/D                                            *\n",
      "*Entries :  3420295 : Total  Size=   27370427 bytes  File Size  =   14351987 *\n",
      "*Baskets :       72 : Basket Size=    1873408 bytes  Compression=   1.81     *\n",
      "*............................................................................*\n",
      "*Br   15 :H2_Charge : H2_Charge/I                                            *\n",
      "*Entries :  3420295 : Total  Size=   13686194 bytes  File Size  =    1349984 *\n",
      "*Baskets :       43 : Basket Size=     936448 bytes  Compression=   9.60     *\n",
      "*............................................................................*\n",
      "*Br   16 :H2_IPChi2 : H2_IPChi2/D                                            *\n",
      "*Entries :  3420295 : Total  Size=   27370427 bytes  File Size  =   23988756 *\n",
      "*Baskets :       72 : Basket Size=    1873408 bytes  Compression=   1.08     *\n",
      "*............................................................................*\n",
      "*Br   17 :H2_isMuon : H2_isMuon/I                                            *\n",
      "*Entries :  3420295 : Total  Size=   13686194 bytes  File Size  =     694361 *\n",
      "*Baskets :       43 : Basket Size=     936448 bytes  Compression=  18.67     *\n",
      "*............................................................................*\n",
      "*Br   18 :H3_PX     : H3_PX/D                                                *\n",
      "*Entries :  3420295 : Total  Size=   27370014 bytes  File Size  =   22914016 *\n",
      "*Baskets :       71 : Basket Size=    1872896 bytes  Compression=   1.13     *\n",
      "*............................................................................*\n",
      "*Br   19 :H3_PY     : H3_PY/D                                                *\n",
      "*Entries :  3420295 : Total  Size=   27370014 bytes  File Size  =   22912473 *\n",
      "*Baskets :       71 : Basket Size=    1872896 bytes  Compression=   1.13     *\n",
      "*............................................................................*\n",
      "*Br   20 :H3_PZ     : H3_PZ/D                                                *\n",
      "*Entries :  3420295 : Total  Size=   27370014 bytes  File Size  =   22848257 *\n",
      "*Baskets :       71 : Basket Size=    1872896 bytes  Compression=   1.13     *\n",
      "*............................................................................*\n",
      "*Br   21 :H3_ProbK  : H3_ProbK/D                                             *\n",
      "*Entries :  3420295 : Total  Size=   27370349 bytes  File Size  =   13721578 *\n",
      "*Baskets :       72 : Basket Size=    1872896 bytes  Compression=   1.89     *\n",
      "*............................................................................*\n",
      "*Br   22 :H3_ProbPi : H3_ProbPi/D                                            *\n",
      "*Entries :  3420295 : Total  Size=   27370427 bytes  File Size  =   13848957 *\n",
      "*Baskets :       72 : Basket Size=    1873408 bytes  Compression=   1.87     *\n",
      "*............................................................................*\n",
      "*Br   23 :H3_Charge : H3_Charge/I                                            *\n",
      "*Entries :  3420295 : Total  Size=   13686194 bytes  File Size  =    1349984 *\n",
      "*Baskets :       43 : Basket Size=     936448 bytes  Compression=   9.60     *\n",
      "*............................................................................*\n",
      "*Br   24 :H3_IPChi2 : H3_IPChi2/D                                            *\n",
      "*Entries :  3420295 : Total  Size=   27370427 bytes  File Size  =   22759894 *\n",
      "*Baskets :       72 : Basket Size=    1873408 bytes  Compression=   1.14     *\n",
      "*............................................................................*\n",
      "*Br   25 :H3_isMuon : H3_isMuon/I                                            *\n",
      "*Entries :  3420295 : Total  Size=   13686194 bytes  File Size  =     854197 *\n",
      "*Baskets :       43 : Basket Size=     936448 bytes  Compression=  15.18     *\n",
      "*............................................................................*\n"
     ]
    }
   ],
   "source": [
    "tree2->Print()"
   ]
  },
  {
   "cell_type": "markdown",
   "id": "96b29940",
   "metadata": {},
   "source": [
    "Trying to merge datasets (didn't work)"
   ]
  },
  {
   "cell_type": "raw",
   "id": "3b9aa30e",
   "metadata": {},
   "source": [
    "TList *list = new TList;\n",
    "list->Add(tree2);\n",
    "list->Add(tree3);\n",
    "TTree *newtree = TTree::MergeTrees(list);\n",
    "newtree->SetName(\"newtree\");\n",
    "newtree->Write();"
   ]
  },
  {
   "cell_type": "raw",
   "id": "eb2dc023",
   "metadata": {},
   "source": [
    "newtree->Print()"
   ]
  },
  {
   "cell_type": "markdown",
   "id": "6b264935",
   "metadata": {},
   "source": [
    "### Declaring and defining variables"
   ]
  },
  {
   "cell_type": "markdown",
   "id": "c7e2d6c1",
   "metadata": {},
   "source": [
    "Magnet Up dataset"
   ]
  },
  {
   "cell_type": "code",
   "execution_count": 3,
   "id": "0e20d911",
   "metadata": {},
   "outputs": [],
   "source": [
    "Double_t B_FlightDistanceUd;          Double_t B_VertexChi2Ud;\n",
    "\n",
    "Int_t H1_isMuonUd;         Int_t H2_isMuonUd;          Int_t H3_isMuonUd;\n",
    "Int_t H1_ChargeUd;         Int_t H2_ChargeUd;          Int_t H3_ChargeUd;\n",
    "Double_t H1_IPChi2Ud;      Double_t H2_IPChi2Ud;       Double_t H3_IPChi2Ud;\n",
    "Double_t H1_PXUd;          Double_t H2_PXUd;           Double_t H3_PXUd;\n",
    "Double_t H1_PYUd;          Double_t H2_PYUd;           Double_t H3_PYUd;\n",
    "Double_t H1_PZUd;          Double_t H2_PZUd;           Double_t H3_PZUd;\n",
    "Double_t H1_ProbPiUd;      Double_t H2_ProbPiUd;       Double_t H3_ProbPiUd;\n",
    "Double_t H1_ProbKUd;       Double_t H2_ProbKUd;        Double_t H3_ProbKUd;\n",
    "\n",
    "tree2->SetBranchAddress(\"B_FlightDistance\", &B_FlightDistanceUd);    tree2->SetBranchAddress(\"B_VertexChi2\", &B_VertexChi2Ud);\n",
    "\n",
    "tree2->SetBranchAddress(\"H1_isMuon\", &H1_isMuonUd);     tree2->SetBranchAddress(\"H2_isMuon\", &H2_isMuonUd);     tree2->SetBranchAddress(\"H3_isMuon\", &H3_isMuonUd);\n",
    "tree2->SetBranchAddress(\"H1_Charge\", &H1_ChargeUd);     tree2->SetBranchAddress(\"H2_Charge\", &H2_ChargeUd);     tree2->SetBranchAddress(\"H3_Charge\", &H3_ChargeUd);\n",
    "tree2->SetBranchAddress(\"H1_IPChi2\", &H1_IPChi2Ud);     tree2->SetBranchAddress(\"H2_IPChi2\", &H2_IPChi2Ud);     tree2->SetBranchAddress(\"H3_IPChi2\", &H3_IPChi2Ud);\n",
    "tree2->SetBranchAddress(\"H1_PX\", &H1_PXUd);             tree2->SetBranchAddress(\"H2_PX\", &H2_PXUd);             tree2->SetBranchAddress(\"H3_PX\", &H3_PXUd);\n",
    "tree2->SetBranchAddress(\"H1_PY\", &H1_PYUd);             tree2->SetBranchAddress(\"H2_PY\", &H2_PYUd);             tree2->SetBranchAddress(\"H3_PY\", &H3_PYUd);\n",
    "tree2->SetBranchAddress(\"H1_PZ\", &H1_PZUd);             tree2->SetBranchAddress(\"H2_PZ\", &H2_PZUd);             tree2->SetBranchAddress(\"H3_PZ\", &H3_PZUd);\n",
    "tree2->SetBranchAddress(\"H1_ProbPi\", &H1_ProbPiUd);     tree2->SetBranchAddress(\"H2_ProbPi\", &H2_ProbPiUd);     tree2->SetBranchAddress(\"H3_ProbPi\", &H3_ProbPiUd);\n",
    "tree2->SetBranchAddress(\"H1_ProbK\", &H1_ProbKUd);       tree2->SetBranchAddress(\"H2_ProbK\", &H2_ProbKUd);       tree2->SetBranchAddress(\"H3_ProbK\", &H3_ProbKUd);"
   ]
  },
  {
   "cell_type": "markdown",
   "id": "b9c07331",
   "metadata": {},
   "source": [
    "Magnet Down dataset"
   ]
  },
  {
   "cell_type": "code",
   "execution_count": 4,
   "id": "b65483eb",
   "metadata": {},
   "outputs": [],
   "source": [
    "Double_t B_FlightDistanceDd;          Double_t B_VertexChi2Dd;\n",
    "\n",
    "Int_t H1_isMuonDd;         Int_t H2_isMuonDd;          Int_t H3_isMuonDd;\n",
    "Int_t H1_ChargeDd;         Int_t H2_ChargeDd;          Int_t H3_ChargeDd;\n",
    "Double_t H1_IPChi2Dd;      Double_t H2_IPChi2Dd;       Double_t H3_IPChi2Dd;\n",
    "Double_t H1_PXDd;          Double_t H2_PXDd;           Double_t H3_PXDd;\n",
    "Double_t H1_PYDd;          Double_t H2_PYDd;           Double_t H3_PYDd;\n",
    "Double_t H1_PZDd;          Double_t H2_PZDd;           Double_t H3_PZDd;\n",
    "Double_t H1_ProbPiDd;      Double_t H2_ProbPiDd;       Double_t H3_ProbPiDd;\n",
    "Double_t H1_ProbKDd;       Double_t H2_ProbKDd;        Double_t H3_ProbKDd;\n",
    "\n",
    "tree3->SetBranchAddress(\"B_FlightDistance\", &B_FlightDistanceDd);    tree3->SetBranchAddress(\"B_VertexChi2\", &B_VertexChi2Dd);\n",
    "\n",
    "tree3->SetBranchAddress(\"H1_isMuon\", &H1_isMuonDd);     tree3->SetBranchAddress(\"H2_isMuon\", &H2_isMuonDd);     tree3->SetBranchAddress(\"H3_isMuon\", &H3_isMuonDd);\n",
    "tree3->SetBranchAddress(\"H1_Charge\", &H1_ChargeDd);     tree3->SetBranchAddress(\"H2_Charge\", &H2_ChargeDd);     tree3->SetBranchAddress(\"H3_Charge\", &H3_ChargeDd);\n",
    "tree3->SetBranchAddress(\"H1_IPChi2\", &H1_IPChi2Dd);     tree3->SetBranchAddress(\"H2_IPChi2\", &H2_IPChi2Dd);     tree3->SetBranchAddress(\"H3_IPChi2\", &H3_IPChi2Dd);\n",
    "tree3->SetBranchAddress(\"H1_PX\", &H1_PXDd);             tree3->SetBranchAddress(\"H2_PX\", &H2_PXDd);             tree3->SetBranchAddress(\"H3_PX\", &H3_PXDd);\n",
    "tree3->SetBranchAddress(\"H1_PY\", &H1_PYDd);             tree3->SetBranchAddress(\"H2_PY\", &H2_PYDd);             tree3->SetBranchAddress(\"H3_PY\", &H3_PYDd);\n",
    "tree3->SetBranchAddress(\"H1_PZ\", &H1_PZDd);             tree3->SetBranchAddress(\"H2_PZ\", &H2_PZDd);             tree3->SetBranchAddress(\"H3_PZ\", &H3_PZDd);\n",
    "tree3->SetBranchAddress(\"H1_ProbPi\", &H1_ProbPiDd);     tree3->SetBranchAddress(\"H2_ProbPi\", &H2_ProbPiDd);     tree3->SetBranchAddress(\"H3_ProbPi\", &H3_ProbPiDd);\n",
    "tree3->SetBranchAddress(\"H1_ProbK\", &H1_ProbKDd);       tree3->SetBranchAddress(\"H2_ProbK\", &H2_ProbKDd);       tree3->SetBranchAddress(\"H3_ProbK\", &H3_ProbKDd);"
   ]
  },
  {
   "cell_type": "markdown",
   "id": "8d7f9d4b",
   "metadata": {},
   "source": [
    "## Preselection"
   ]
  },
  {
   "cell_type": "code",
   "execution_count": 5,
   "id": "cbe10ee8",
   "metadata": {},
   "outputs": [],
   "source": [
    "TCanvas *canvas = new TCanvas(\"Canvas\",\"\",550,350);\n",
    "int bin = 30;\n",
    "int suplim = 140000;\n",
    "\n",
    "TH1F *momentumH1 = new TH1F(\"momentumH1\",\"momentumH1; p(MeV); Events\",bin,0,suplim);\n",
    "TH1F *momentumH2 = new TH1F(\"momentumH2\",\"momentumH2; p(MeV); Events\",bin,0,suplim);\n",
    "TH1F *momentumH3 = new TH1F(\"momentumH3\",\"momentumH3; p(MeV); Events\",bin,0,suplim);\n",
    "\n",
    "int nentriesUd, nentriesDd, nbytes, i;\n",
    "nentriesUd = (Int_t)tree2->GetEntries();\n",
    "nentriesDd = (Int_t)tree3->GetEntries();"
   ]
  },
  {
   "cell_type": "code",
   "execution_count": 6,
   "id": "8d6f9b8f",
   "metadata": {},
   "outputs": [],
   "source": [
    "int counter = 0;\n",
    "float prob_pi = 0.5;\n",
    "float prob_ka = 0.5;\n",
    "\n",
    "for (i = 0; i < nentriesUd; i++)\n",
    "{\n",
    "    nbytes = tree2->GetEntry(i); \n",
    "    \n",
    "    if(H1_isMuonUd == 1 || H2_isMuonUd == 1 || H3_isMuonUd == 1) continue;\n",
    "    if(H1_ProbPiUd > prob_pi || H2_ProbPiUd > prob_pi || H3_ProbPiUd > prob_pi) continue;\n",
    "    if(H1_ProbKUd  < prob_ka || H2_ProbKUd  < prob_ka || H3_ProbKUd  < prob_ka) continue;\n",
    "        \n",
    "    TLorentzVector PH1  = TLorentzVector();\n",
    "    TLorentzVector PH2  = TLorentzVector();\n",
    "    TLorentzVector PH3  = TLorentzVector();\n",
    "    \n",
    "    PH1.SetPxPyPzE(H1_PXUd, H1_PYUd, H1_PZUd,1);\n",
    "    PH2.SetPxPyPzE(H2_PXUd, H2_PYUd, H2_PZUd,1);\n",
    "    PH3.SetPxPyPzE(H3_PXUd, H3_PYUd, H3_PZUd,1);\n",
    "    \n",
    "    momentumH1->Fill(PH1.P(),1);\n",
    "    momentumH2->Fill(PH2.P(),1);\n",
    "    momentumH3->Fill(PH3.P(),1);\n",
    "    \n",
    "    counter += 1;\n",
    "}\n",
    "\n",
    "for (i = 0; i < nentriesDd; i++)\n",
    "{\n",
    "    nbytes = tree3->GetEntry(i); \n",
    "    \n",
    "    if(H1_isMuonDd == 1 || H2_isMuonDd == 1 || H3_isMuonDd == 1) continue;\n",
    "    if(H1_ProbPiDd > prob_pi || H2_ProbPiDd > prob_pi || H3_ProbPiDd > prob_pi) continue;\n",
    "    if(H1_ProbKDd  < prob_ka || H2_ProbKDd  < prob_ka || H3_ProbKDd  < prob_ka) continue;\n",
    "\n",
    "    TLorentzVector PH1  = TLorentzVector();\n",
    "    TLorentzVector PH2  = TLorentzVector();\n",
    "    TLorentzVector PH3  = TLorentzVector();\n",
    "    \n",
    "    PH1.SetPxPyPzE(H1_PXDd, H1_PYDd, H1_PZDd,1);\n",
    "    PH2.SetPxPyPzE(H2_PXDd, H2_PYDd, H2_PZDd,1);\n",
    "    PH3.SetPxPyPzE(H3_PXDd, H3_PYDd, H3_PZDd,1);\n",
    "    \n",
    "    momentumH1->Fill(PH1.P(),1);\n",
    "    momentumH2->Fill(PH2.P(),1);\n",
    "    momentumH3->Fill(PH3.P(),1);\n",
    "    \n",
    "    counter += 1;\n",
    "}"
   ]
  },
  {
   "cell_type": "code",
   "execution_count": 7,
   "id": "61fcf152",
   "metadata": {},
   "outputs": [
    {
     "name": "stdout",
     "output_type": "stream",
     "text": [
      "(int) 23895\n"
     ]
    }
   ],
   "source": [
    "counter"
   ]
  },
  {
   "cell_type": "code",
   "execution_count": 8,
   "id": "96afda7f",
   "metadata": {},
   "outputs": [
    {
     "data": {
      "image/png": "[encoded data removed]",
      "text/plain": [
       "<IPython.core.display.Image object>"
      ]
     },
     "metadata": {},
     "output_type": "display_data"
    }
   ],
   "source": [
    "momentumH1->Draw();\n",
    "canvas->Draw()"
   ]
  },
  {
   "cell_type": "code",
   "execution_count": 9,
   "id": "ff549266",
   "metadata": {},
   "outputs": [
    {
     "data": {
      "image/png": "[encoded data removed]",
      "text/plain": [
       "<IPython.core.display.Image object>"
      ]
     },
     "metadata": {},
     "output_type": "display_data"
    }
   ],
   "source": [
    "momentumH2->Draw();\n",
    "canvas->Draw()"
   ]
  },
  {
   "cell_type": "code",
   "execution_count": 10,
   "id": "78b5505f",
   "metadata": {},
   "outputs": [
    {
     "data": {
      "image/png": "[encoded data removed]",
      "text/plain": [
       "<IPython.core.display.Image object>"
      ]
     },
     "metadata": {},
     "output_type": "display_data"
    }
   ],
   "source": [
    "momentumH3->Draw();\n",
    "canvas->Draw()"
   ]
  }
 ],
 "metadata": {
  "kernelspec": {
   "display_name": "ROOT C++",
   "language": "c++",
   "name": "root"
  },
  "language_info": {
   "codemirror_mode": "text/x-c++src",
   "file_extension": ".C",
   "mimetype": " text/x-c++src",
   "name": "c++"
  }
 },
 "nbformat": 4,
 "nbformat_minor": 5
}
